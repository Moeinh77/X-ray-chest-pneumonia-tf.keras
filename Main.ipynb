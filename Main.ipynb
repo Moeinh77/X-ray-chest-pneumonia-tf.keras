{
 "cells": [
  {
   "cell_type": "markdown",
   "metadata": {},
   "source": [
    "Run next 5 cells if running on Colab"
   ]
  },
  {
   "cell_type": "markdown",
   "metadata": {
    "id": "kapMR2zdo1aH"
   },
   "source": [
    "### Kaggle data download"
   ]
  },
  {
   "cell_type": "code",
   "execution_count": 85,
   "metadata": {
    "colab": {
     "base_uri": "https://localhost:8080/"
    },
    "id": "gsDV_eyk7v9P",
    "outputId": "1ddb3fcd-14aa-450a-acbd-b010905f030b"
   },
   "outputs": [
    {
     "name": "stdout",
     "output_type": "stream",
     "text": [
      "--2020-12-30 13:57:08--  https://download1478.mediafire.com/b0dw1lqpm0wg/x0fkjgvejqsdato/kaggle.json\n",
      "Resolving download1478.mediafire.com (download1478.mediafire.com)... 205.196.123.166\n",
      "Connecting to download1478.mediafire.com (download1478.mediafire.com)|205.196.123.166|:443... connected.\n",
      "HTTP request sent, awaiting response... 200 OK\n",
      "Length: 63 [application/json]\n",
      "Saving to: ‘kaggle.json.1’\n",
      "\n",
      "kaggle.json.1       100%[===================>]      63   411 B/s    in 0.2s    \n",
      "\n",
      "2020-12-30 13:57:09 (411 B/s) - ‘kaggle.json.1’ saved [63/63]\n",
      "\n"
     ]
    }
   ],
   "source": [
    "!wget https://download1478.mediafire.com/b0dw1lqpm0wg/x0fkjgvejqsdato/kaggle.json"
   ]
  },
  {
   "cell_type": "code",
   "execution_count": 86,
   "metadata": {
    "colab": {
     "base_uri": "https://localhost:8080/"
    },
    "id": "sc8q05p7l4kn",
    "outputId": "3fc3192b-8924-4e44-f0ef-1c2a51473e06"
   },
   "outputs": [
    {
     "name": "stdout",
     "output_type": "stream",
     "text": [
      "mkdir: cannot create directory ‘.kaggle’: File exists\n",
      "- path is now set to: content\n"
     ]
    }
   ],
   "source": [
    "!mkdir .kaggle\n",
    "import json\n",
    "token = {\"username\":\"aiden98\",\"key\":\"eba75dd5264ada538b85a5aa62a421af\"}\n",
    "with open('/content/.kaggle/kaggle.json', 'w') as file:\n",
    "    json.dump(token, file)\n",
    "\n",
    "!chmod 600 /content/.kaggle/kaggle.json\n",
    "!cp /content/.kaggle/kaggle.json /root/.kaggle/kaggle.json\n",
    "!kaggle config set -n path -v content"
   ]
  },
  {
   "cell_type": "code",
   "execution_count": 87,
   "metadata": {
    "colab": {
     "base_uri": "https://localhost:8080/"
    },
    "id": "msoQ_MC9l4pw",
    "outputId": "108cb049-e655-47d2-d000-ffa922b8275a"
   },
   "outputs": [
    {
     "name": "stdout",
     "output_type": "stream",
     "text": [
      "chest-xray-pneumonia.zip: Skipping, found more recently modified local copy (use --force to force download)\n"
     ]
    }
   ],
   "source": [
    "!kaggle datasets download -d paultimothymooney/chest-xray-pneumonia"
   ]
  },
  {
   "cell_type": "code",
   "execution_count": 88,
   "metadata": {
    "colab": {
     "base_uri": "https://localhost:8080/"
    },
    "id": "R5ot9I69pUgn",
    "outputId": "5a59d245-cd02-454b-9ae2-ef2401f04f55"
   },
   "outputs": [
    {
     "name": "stdout",
     "output_type": "stream",
     "text": [
      "Archive:  /content/content/datasets/paultimothymooney/chest-xray-pneumonia/chest-xray-pneumonia.zip\n",
      "replace chest_xray/__MACOSX/._chest_xray? [y]es, [n]o, [A]ll, [N]one, [r]ename: "
     ]
    }
   ],
   "source": [
    "!unzip /content/content/datasets/paultimothymooney/chest-xray-pneumonia/chest-xray-pneumonia.zip"
   ]
  },
  {
   "cell_type": "markdown",
   "metadata": {
    "id": "ORQtwVDWo8l4"
   },
   "source": [
    "### Import Libraries"
   ]
  },
  {
   "cell_type": "code",
   "execution_count": 1,
   "metadata": {
    "_cell_guid": "b1076dfc-b9ad-4769-8c92-a6c4dae69d19",
    "_uuid": "8f2839f25d086af736a60e9eeb907d3b93b6e0e5",
    "id": "1DsUCdcZlzzG"
   },
   "outputs": [],
   "source": [
    "import os\n",
    "import glob\n",
    "import h5py\n",
    "import shutil\n",
    "import imgaug as aug\n",
    "import numpy as np # linear algebra\n",
    "import pandas as pd # data processing, CSV file I/O (e.g. pd.read_csv)\n",
    "import seaborn as sns\n",
    "import matplotlib.pyplot as plt\n",
    "import matplotlib.image as mimg\n",
    "import imgaug.augmenters as iaa\n",
    "from os import listdir, makedirs, getcwd, remove\n",
    "from os.path import isfile, join, abspath, exists, isdir, expanduser\n",
    "from PIL import Image\n",
    "from pathlib import Path\n",
    "from skimage.io import imread\n",
    "from skimage.transform import resize\n",
    "import tensorflow\n",
    "from tensorflow.keras.models import Sequential, Model\n",
    "from tensorflow.keras.applications.vgg16 import VGG16, preprocess_input\n",
    "from tensorflow.keras.preprocessing.image import ImageDataGenerator,load_img, img_to_array\n",
    "from tensorflow.keras.models import Sequential\n",
    "from tensorflow.keras.layers import Conv2D, MaxPooling2D, Dense, Dropout, Input, Flatten, SeparableConv2D\n",
    "from tensorflow.keras.layers import GlobalMaxPooling2D,GlobalAveragePooling2D\n",
    "from tensorflow.keras.layers import BatchNormalization\n",
    "from tensorflow.keras.layers import Concatenate\n",
    "from tensorflow.keras.models import Model\n",
    "from tensorflow.keras.optimizers import Adam, SGD, RMSprop\n",
    "from tensorflow.keras.callbacks import ModelCheckpoint, Callback, EarlyStopping\n",
    "from tensorflow.keras.utils import to_categorical\n",
    "from tensorflow.keras.applications import ResNet50, InceptionV3, DenseNet121\n",
    "from tensorflow.keras.layers.experimental.preprocessing import Normalization\n",
    "from sklearn.model_selection import train_test_split\n",
    "from sklearn.preprocessing import StandardScaler\n",
    "from mlxtend.plotting import plot_confusion_matrix\n",
    "from sklearn.metrics import confusion_matrix\n",
    "import cv2\n",
    "from tensorflow.compat.v1.keras import backend as K\n",
    "\n",
    "color = sns.color_palette()\n",
    "%matplotlib inline"
   ]
  },
  {
   "cell_type": "markdown",
   "metadata": {
    "_uuid": "a5869d878e9a5fc94ab5eb05cbd24d67bab88378",
    "id": "9Dufm3OwlzzI"
   },
   "source": [
    "Reproducibility is a great concern when doing deep learning. There was a good discussion on `KaggleNoobs` slack regarding this. We will set a numer of things in order to make sure that the results are almost reproducible(if not fully). "
   ]
  },
  {
   "cell_type": "code",
   "execution_count": 2,
   "metadata": {
    "_cell_guid": "9957d783-26d0-4e21-b8cb-8d1412b66bdd",
    "_uuid": "ee4c0df90c4dfe5f2e770cb3ecf05c849fa6cd7a",
    "id": "bOgk7ExOlzzJ"
   },
   "outputs": [],
   "source": [
    "import tensorflow as tf\n",
    "\n",
    "# Set the seed for hash based operations in python\n",
    "os.environ['PYTHONHASHSEED'] = '0'\n",
    "\n",
    "# Set the numpy seed\n",
    "np.random.seed(111)\n",
    "\n",
    "# Disable multi-threading in tensorflow ops\n",
    "session_conf = tf.compat.v1.ConfigProto(intra_op_parallelism_threads=1, inter_op_parallelism_threads=1)\n",
    "\n",
    "# Set the random seed in tensorflow at graph level\n",
    "tf.compat.v1.set_random_seed(111)\n",
    "\n",
    "# Define a tensorflow session with above session configs\n",
    "sess = tf.compat.v1.Session(graph=tf.compat.v1.get_default_graph(), config=session_conf)\n",
    "\n",
    "# Set the session in keras\n",
    "K.set_session(sess)\n",
    "\n",
    "# Make the augmentation sequence deterministic\n",
    "aug.seed(111)"
   ]
  },
  {
   "cell_type": "markdown",
   "metadata": {
    "_uuid": "d488f59675eda4dcdab8aaafaae7263a6128c047",
    "id": "mRwNyltElzzJ"
   },
   "source": [
    "The dataset is divided into three sets: 1) train set    2) validation set    and 3) test set.  Let's grab the dataset   "
   ]
  },
  {
   "cell_type": "code",
   "execution_count": 193,
   "metadata": {
    "_cell_guid": "79c7e3d0-c299-4dcb-8224-4455121ee9b0",
    "_uuid": "d629ff2d2480ee46fbb7e2d37f6b5fab8052498a",
    "id": "mv1Z2D-flzzJ"
   },
   "outputs": [],
   "source": [
    "# Define path to the data directory\n",
    "# data_dir = Path('/content/chest_xray') # i fon colab on comment this line and comment the next one\n",
    "data_dir = Path('chest_xray')\n",
    "# Path to train directory (Fancy pathlib...no more os.path!!)\n",
    "train_dir = data_dir / 'train'\n",
    "\n",
    "# Path to validation directory\n",
    "val_dir = data_dir / 'val'\n",
    "\n",
    "# Path to test directory\n",
    "test_dir = data_dir / 'test'\n",
    "\n",
    "in_size = 224"
   ]
  },
  {
   "cell_type": "markdown",
   "metadata": {
    "_uuid": "c827c5bbbefcea77a93ae7fb2141534e297dce08",
    "id": "kYR5dVDClzzL"
   },
   "source": [
    "### How many samples for each class are there in the dataset?"
   ]
  },
  {
   "cell_type": "code",
   "execution_count": 243,
   "metadata": {
    "_cell_guid": "294e9c52-2d9a-427c-ba19-c8f3a28b0b65",
    "_uuid": "977e06568660798f12288e7c29bba0fb35646c31",
    "colab": {
     "base_uri": "https://localhost:8080/",
     "height": 395
    },
    "id": "C2ivUk23lzzM",
    "outputId": "28a69d23-6787-4825-83dc-f009271fb09a"
   },
   "outputs": [],
   "source": [
    "def show_dist(dir_):\n",
    "    # Get the path to the normal and pneumonia sub-directories\n",
    "    normal_cases_dir = dir_ / 'NORMAL'\n",
    "    pneumonia_cases_dir = dir_ / 'PNEUMONIA'\n",
    "\n",
    "    # Get the list of all the images\n",
    "    normal_cases = normal_cases_dir.glob('*.jpeg')\n",
    "    pneumonia_cases = pneumonia_cases_dir.glob('*.jpeg')\n",
    "\n",
    "    # An empty list. We will insert the data into this list in (img_path, label) format\n",
    "    data = []\n",
    "\n",
    "    # Go through all the normal cases. The label for these cases will be 0\n",
    "    for img in normal_cases:\n",
    "        data.append((img,0))\n",
    "\n",
    "    # Go through all the pneumonia cases. The label for these cases will be 1\n",
    "    for img in pneumonia_cases:\n",
    "        data.append((img, 1))\n",
    "\n",
    "    # Get a pandas dataframe from the data we have in our list \n",
    "    data = pd.DataFrame(data, columns=['image', 'label'],index=None)\n",
    "    # Get the counts for each class\n",
    "    cases_count = data['label'].value_counts()\n",
    "    print(cases_count)\n",
    "\n",
    "    # Plot the results \n",
    "    plt.figure(figsize=(3,2))\n",
    "    sns.barplot(x=cases_count.index, y= cases_count.values)\n",
    "    plt.title('Number of cases', fontsize=14)\n",
    "    plt.xlabel('Case type', fontsize=12)\n",
    "    plt.ylabel('Count', fontsize=12)\n",
    "    plt.xticks(range(len(cases_count.index)), ['Normal(0)', 'Pneumonia(1)'])\n",
    "    plt.show()"
   ]
  },
  {
   "cell_type": "code",
   "execution_count": 244,
   "metadata": {},
   "outputs": [
    {
     "name": "stdout",
     "output_type": "stream",
     "text": [
      "1    3875\n",
      "0    1341\n",
      "Name: label, dtype: int64\n"
     ]
    },
    {
     "data": {
      "image/png": "[encoded data removed]",
      "text/plain": [
       "<Figure size 216x144 with 1 Axes>"
      ]
     },
     "metadata": {
      "needs_background": "light"
     },
     "output_type": "display_data"
    }
   ],
   "source": [
    "show_dist(train_dir)"
   ]
  },
  {
   "cell_type": "code",
   "execution_count": 246,
   "metadata": {},
   "outputs": [
    {
     "name": "stdout",
     "output_type": "stream",
     "text": [
      "1    8\n",
      "0    8\n",
      "Name: label, dtype: int64\n"
     ]
    },
    {
     "data": {
      "image/png": "[encoded data removed]",
      "text/plain": [
       "<Figure size 216x144 with 1 Axes>"
      ]
     },
     "metadata": {
      "needs_background": "light"
     },
     "output_type": "display_data"
    }
   ],
   "source": [
    "# small validation set!\n",
    "# but since the uploder has decided the size I will o with it\n",
    "show_dist(val_dir)"
   ]
  },
  {
   "cell_type": "code",
   "execution_count": 247,
   "metadata": {},
   "outputs": [
    {
     "name": "stdout",
     "output_type": "stream",
     "text": [
      "1    390\n",
      "0    234\n",
      "Name: label, dtype: int64\n"
     ]
    },
    {
     "data": {
      "image/png": "[encoded data removed]",
      "text/plain": [
       "<Figure size 216x144 with 1 Axes>"
      ]
     },
     "metadata": {
      "needs_background": "light"
     },
     "output_type": "display_data"
    }
   ],
   "source": [
    "show_dist(test_dir)"
   ]
  },
  {
   "cell_type": "markdown",
   "metadata": {},
   "source": [
    "### Under sampling\n",
    "first we try the simple way, if undersampling work we wont need to bother ourselves with augmentation"
   ]
  },
  {
   "cell_type": "code",
   "execution_count": 186,
   "metadata": {
    "id": "YzhDvzmslzzN"
   },
   "outputs": [],
   "source": [
    "# use 0 and 1 labels\n",
    "lbl_dim = 1\n",
    "# in order to have equal number of samples\n",
    "# in each class we stop the loop with this\n",
    "# variable\n",
    "drop_samples = True"
   ]
  },
  {
   "cell_type": "code",
   "execution_count": 180,
   "metadata": {},
   "outputs": [
    {
     "name": "stdout",
     "output_type": "stream",
     "text": [
      "Total number of train examples:  (2682, 224, 224, 3)\n",
      "Total number of labels: (2682,)\n"
     ]
    }
   ],
   "source": [
    "import pickle\n",
    "# Get the path to the sub-directories\n",
    "normal_cases_dir = train_dir / 'NORMAL'\n",
    "pneumonia_cases_dir = train_dir / 'PNEUMONIA'\n",
    "\n",
    "# Get the list of all the images\n",
    "normal_cases = normal_cases_dir.glob('*.jpeg')\n",
    "pneumonia_cases = pneumonia_cases_dir.glob('*.jpeg')\n",
    "\n",
    "# List that are going to contain traination images data and the corresponding labels\n",
    "train_data = []\n",
    "train_labels = []\n",
    "\n",
    "# Some images are in grayscale while majority of them contains 3 channels. So, if the image is grayscale, we will convert into a image with 3 channels.\n",
    "# We will normalize the pixel values and resizing all the images to 224x224 \n",
    "\n",
    "# Normal cases\n",
    "for img in normal_cases:\n",
    "    img = cv2.imread(str(img))\n",
    "    img = cv2.resize(img, (in_size,in_size))\n",
    "    if img.shape[2] ==1:\n",
    "        img = np.dstack([img, img, img])\n",
    "    img = cv2.cvtColor(img, cv2.COLOR_BGR2RGB)\n",
    "    if lbl_dim == 1:\n",
    "        label = 0 \n",
    "    else:\n",
    "        label = to_categorical(0, num_classes=2)\n",
    "        \n",
    "    train_data.append(img)\n",
    "    train_labels.append(label)\n",
    "\n",
    "i = len(train_data)\n",
    "# Pneumonia cases        \n",
    "for img in pneumonia_cases:\n",
    "    if i == 0 and drop_samples == True:\n",
    "        break\n",
    "    i-=1\n",
    "    img = cv2.imread(str(img))\n",
    "    img = cv2.resize(img, (in_size,in_size))\n",
    "    if img.shape[2] ==1:\n",
    "        img = np.dstack([img, img, img])\n",
    "    img = cv2.cvtColor(img, cv2.COLOR_BGR2RGB)\n",
    "    if lbl_dim == 1:\n",
    "        label = 1 \n",
    "    else:\n",
    "        label = to_categorical(0, num_classes=2)    \n",
    "    \n",
    "    train_data.append(img)\n",
    "    train_labels.append(label)\n",
    "    \n",
    "# Convert the list into numpy arrays\n",
    "train_data = np.array(train_data)\n",
    "train_labels = np.array(train_labels)\n",
    "\n",
    "with open('train_data.pkl','wb') as f:\n",
    "    pickle.dump(train_data,f)\n",
    "with open('train_label.pkl','wb') as f:\n",
    "    pickle.dump(train_labels,f)    \n",
    "    \n",
    "with open(\"train_data.pkl\",'rb') as f:\n",
    "    train_data = pickle.load(f)\n",
    "with open(\"train_label.pkl\",'rb') as f:\n",
    "    train_labels = pickle.load(f)\n",
    "\n",
    "print(\"Total number of train examples: \", train_data.shape)\n",
    "print(\"Total number of labels:\", train_labels.shape)"
   ]
  },
  {
   "cell_type": "code",
   "execution_count": 181,
   "metadata": {
    "_cell_guid": "55a1b867-5499-4460-a435-8145c1bdff4e",
    "_uuid": "7339a4be8a266b0d8b13f1f6136370b711691f7a",
    "colab": {
     "base_uri": "https://localhost:8080/",
     "height": 567
    },
    "id": "ilcTtUMclzzL",
    "outputId": "5d2d784f-4fc7-4fb0-e5a1-67699a14d7e3",
    "scrolled": true
   },
   "outputs": [
    {
     "name": "stderr",
     "output_type": "stream",
     "text": [
      "C:\\Users\\BasuUser\\Anaconda3\\envs\\moein2\\lib\\site-packages\\seaborn\\_decorators.py:43: FutureWarning: Pass the following variable as a keyword arg: x. From version 0.12, the only valid positional argument will be `data`, and passing other arguments without an explicit keyword will result in an error or misinterpretation.\n",
      "  FutureWarning\n"
     ]
    },
    {
     "data": {
      "image/png": "[encoded data removed]",
      "text/plain": [
       "<Figure size 360x288 with 1 Axes>"
      ]
     },
     "metadata": {
      "needs_background": "light"
     },
     "output_type": "display_data"
    }
   ],
   "source": [
    "import seaborn as sns\n",
    "\n",
    "# Plot the results \n",
    "plt.figure(figsize=(5,4))\n",
    "sns.countplot(train_labels)\n",
    "\n",
    "plt.title('Number of cases', fontsize=14)\n",
    "plt.xlabel('Case type', fontsize=12)\n",
    "plt.ylabel('Count', fontsize=12)\n",
    "plt.show()"
   ]
  },
  {
   "cell_type": "markdown",
   "metadata": {
    "_uuid": "422892036677e8ab0cd5eb1df2a55752611de2a6",
    "id": "fyjTVkyjlzzN"
   },
   "source": [
    "### Preparing validation and test data\n"
   ]
  },
  {
   "cell_type": "code",
   "execution_count": 194,
   "metadata": {
    "_cell_guid": "4ef15f9a-b9bc-4e00-9ff5-928e287c526e",
    "_uuid": "fa1af0731ad6ff427ff72d9d029a2a414f4d11a3",
    "colab": {
     "base_uri": "https://localhost:8080/"
    },
    "id": "ZhetWWJklzzN",
    "outputId": "f6614e64-942c-4b27-d2f1-9e6a022f87fd"
   },
   "outputs": [
    {
     "name": "stdout",
     "output_type": "stream",
     "text": [
      "Total number of validation examples:  (16, 224, 224, 3)\n",
      "Total number of labels: (16,)\n"
     ]
    }
   ],
   "source": [
    "# Get the path to the sub-directories\n",
    "normal_cases_dir = val_dir / 'NORMAL'\n",
    "pneumonia_cases_dir = val_dir / 'PNEUMONIA'\n",
    "\n",
    "# Get the list of all the images\n",
    "normal_cases = normal_cases_dir.glob('*.jpeg')\n",
    "pneumonia_cases = pneumonia_cases_dir.glob('*.jpeg')\n",
    "\n",
    "# List that are going to contain validation images data and the corresponding labels\n",
    "valid_data = []\n",
    "valid_labels = []\n",
    "\n",
    "\n",
    "# Some images are in grayscale while majority of them contains 3 channels. So, if the image is grayscale, we will convert into a image with 3 channels.\n",
    "# We will normalize the pixel values and resizing all the images to 224x224 \n",
    "\n",
    "# Normal cases\n",
    "for img in normal_cases:\n",
    "    img = cv2.imread(str(img))\n",
    "    img = cv2.resize(img, (in_size,in_size))\n",
    "    if img.shape[2] ==1:\n",
    "        img = np.dstack([img, img, img])\n",
    "    img = cv2.cvtColor(img, cv2.COLOR_BGR2RGB)\n",
    "    if lbl_dim == 1:\n",
    "        label = 0 \n",
    "    else:\n",
    "        label = to_categorical(0, num_classes=2)\n",
    "        \n",
    "    valid_data.append(img)\n",
    "    valid_labels.append(label)\n",
    "                      \n",
    "# Pneumonia cases        \n",
    "for img in pneumonia_cases:\n",
    "    img = cv2.imread(str(img))\n",
    "    img = cv2.resize(img, (in_size,in_size))\n",
    "    if img.shape[2] ==1:\n",
    "        img = np.dstack([img, img, img])\n",
    "    img = cv2.cvtColor(img, cv2.COLOR_BGR2RGB)\n",
    "    if lbl_dim == 1:\n",
    "        label = 1 \n",
    "    else:\n",
    "        label = to_categorical(0, num_classes=2)    \n",
    "    \n",
    "    valid_data.append(img)\n",
    "    valid_labels.append(label)\n",
    "    \n",
    "# Convert the list into numpy arrays\n",
    "valid_data = np.array(valid_data)\n",
    "valid_labels = np.array(valid_labels)\n",
    "\n",
    "with open('val_data.pkl','wb') as f:\n",
    "    pickle.dump(valid_data,f)\n",
    "with open('val_label.pkl','wb') as f:\n",
    "    pickle.dump(valid_labels,f)    \n",
    "    \n",
    "with open(\"val_data.pkl\",'rb') as f:\n",
    "    valid_data = pickle.load(f)\n",
    "with open(\"val_label.pkl\",'rb') as f:\n",
    "    valid_labels = pickle.load(f)\n",
    "\n",
    "print(\"Total number of validation examples: \", valid_data.shape)\n",
    "print(\"Total number of labels:\", valid_labels.shape)"
   ]
  },
  {
   "cell_type": "code",
   "execution_count": 190,
   "metadata": {
    "_cell_guid": "7e366caa-87e1-4761-aaca-5d87dee2605f",
    "_uuid": "135d485c94679ae8942fc0e372091d914b752b55",
    "colab": {
     "base_uri": "https://localhost:8080/"
    },
    "id": "9H7y3WlzlzzX",
    "outputId": "ef19c156-00e4-43ad-cf69-3320a7b6c83c"
   },
   "outputs": [
    {
     "name": "stdout",
     "output_type": "stream",
     "text": [
      "Total number of test examples:  (624, 224, 224, 3)\n",
      "Total number of labels: (624,)\n"
     ]
    }
   ],
   "source": [
    "# Preparing test data\n",
    "normal_cases_dir = test_dir / 'NORMAL'\n",
    "pneumonia_cases_dir = test_dir / 'PNEUMONIA'\n",
    "\n",
    "normal_cases = normal_cases_dir.glob('*.jpeg')\n",
    "pneumonia_cases = pneumonia_cases_dir.glob('*.jpeg')\n",
    "\n",
    "test_data = []\n",
    "test_labels = []\n",
    "\n",
    "for img in normal_cases:\n",
    "    img = cv2.imread(str(img))\n",
    "    img = cv2.resize(img, (in_size,in_size))\n",
    "    if img.shape[2] ==1:\n",
    "        img = np.dstack([img, img, img])\n",
    "    else:\n",
    "        img = cv2.cvtColor(img, cv2.COLOR_BGR2RGB)\n",
    "    if lbl_dim == 1:\n",
    "        label = 0 \n",
    "    else:\n",
    "        label = to_categorical(0, num_classes=2)\n",
    "    test_data.append(img)\n",
    "    test_labels.append(label)\n",
    "                      \n",
    "for img in pneumonia_cases:\n",
    "    img = cv2.imread(str(img))\n",
    "    img = cv2.resize(img, (in_size,in_size))\n",
    "    if img.shape[2] ==1:\n",
    "        img = np.dstack([img, img, img])\n",
    "    else:\n",
    "        img = cv2.cvtColor(img, cv2.COLOR_BGR2RGB)\n",
    "    if lbl_dim == 1:\n",
    "        label = 1\n",
    "    else:\n",
    "        label = to_categorical(1, num_classes=2)\n",
    "    test_data.append(img)\n",
    "    test_labels.append(label)\n",
    "    \n",
    "\n",
    "test_data = np.array(test_data)\n",
    "test_labels = np.array(test_labels)\n",
    "\n",
    "print(\"Total number of test examples: \", test_data.shape)\n",
    "print(\"Total number of labels:\", test_labels.shape)"
   ]
  },
  {
   "cell_type": "markdown",
   "metadata": {
    "_uuid": "2cbc776086dc1afc6b5d79346f2c29e3451e7273",
    "id": "2N1FNwU9lzzO"
   },
   "source": [
    "### Training data generator \n",
    "Here I will define a very simple data generator. You can do more than this if you want but I think at this point, this is more than enough I need."
   ]
  },
  {
   "cell_type": "code",
   "execution_count": 197,
   "metadata": {},
   "outputs": [],
   "source": [
    "from tensorflow.keras.preprocessing.image import ImageDataGenerator\n",
    "\n",
    "train_data_gen = ImageDataGenerator(\n",
    "    rotation_range=10,  # randomly rotate images in the range (degrees, 0 to 180)\n",
    "    # randomly shift images horizontally (fraction of total width)\n",
    "    width_shift_range=0.15,\n",
    "    # randomly shift images vertically (fraction of total height)\n",
    "    height_shift_range=0.15,\n",
    "    shear_range=0.,  # set range for random shear\n",
    "    zoom_range=0.1)  # set range for random zoo\n",
    "\n",
    "train_generator = train_data_gen.flow(\n",
    "        train_data, train_labels,\n",
    "        batch_size=batch_size)"
   ]
  },
  {
   "cell_type": "code",
   "execution_count": 199,
   "metadata": {
    "colab": {
     "base_uri": "https://localhost:8080/"
    },
    "id": "ZhvEqlIdlzzP",
    "outputId": "3b3ff1b4-1d0e-48b3-e7d9-aef854b59102"
   },
   "outputs": [
    {
     "name": "stdout",
     "output_type": "stream",
     "text": [
      "Number of training and validation steps: 83 and 16\n"
     ]
    }
   ],
   "source": [
    "batch_size = 32\n",
    "\n",
    "# Define the number of training steps\n",
    "steps_per_epoch = train_data.shape[0]//batch_size\n",
    "\n",
    "print(\"Number of training and validation steps: {} and {}\".format(steps_per_epoch, len(valid_data)))"
   ]
  },
  {
   "cell_type": "code",
   "execution_count": 200,
   "metadata": {
    "id": "famAqutUlzzQ"
   },
   "outputs": [],
   "source": [
    "transfer_lr = True\n",
    "base_weights = None\n",
    "normalize = True\n",
    "\n",
    "activation_f = 'sigmoid'\n",
    "loss_type = 'binary_crossentropy'\n",
    "\n",
    "dout = 0.2\n",
    "monitor = 'val_f1_m'\n",
    "the_model= 'densenet121' #'resnet50'"
   ]
  },
  {
   "cell_type": "code",
   "execution_count": 201,
   "metadata": {
    "colab": {
     "base_uri": "https://localhost:8080/"
    },
    "id": "eMCyOdRWlzzQ",
    "outputId": "15a176c5-cfd3-4193-fe1e-4b8c4dc331d5"
   },
   "outputs": [
    {
     "name": "stdout",
     "output_type": "stream",
     "text": [
      "Model: \"model_5\"\n",
      "_________________________________________________________________\n",
      "Layer (type)                 Output Shape              Param #   \n",
      "=================================================================\n",
      "input_12 (InputLayer)        [(None, 224, 224, 3)]     0         \n",
      "_________________________________________________________________\n",
      "normalization_5 (Normalizati (None, 224, 224, 3)       7         \n",
      "_________________________________________________________________\n",
      "densenet121 (Model)          multiple                  7037504   \n",
      "_________________________________________________________________\n",
      "global_average_pooling2d_5 ( (None, 1024)              0         \n",
      "_________________________________________________________________\n",
      "dropout_5 (Dropout)          (None, 1024)              0         \n",
      "_________________________________________________________________\n",
      "dense_5 (Dense)              (None, 1)                 1025      \n",
      "=================================================================\n",
      "Total params: 7,038,536\n",
      "Trainable params: 1,025\n",
      "Non-trainable params: 7,037,511\n",
      "_________________________________________________________________\n"
     ]
    }
   ],
   "source": [
    "in_size =224\n",
    "\n",
    "in_dim =3\n",
    "# here we freeze everything except the last layer\n",
    "if transfer_lr:\n",
    "    base_weights= 'imagenet'#the_model+'_weights_tf_dim_ordering_tf_kernels_notop.h5'\n",
    "\n",
    "if the_model == 'resnet50':\n",
    "    base_model = ResNet50(weights=base_weights, include_top=False)#, input_shape=(in_size,in_size,in_dim))\n",
    "elif the_model == 'densenet121':\n",
    "    base_model = DenseNet121(weights='../Neck X-Ray/densenet121_weights_tf_dim_ordering_tf_kernels_notop_2.h5', include_top=False)#, input_shape=(in_size,in_size,in_dim))\n",
    "    \n",
    "base_model.trainable = not transfer_lr\n",
    "\n",
    "inputs = Input(shape=(in_size, in_size, in_dim))\n",
    "\n",
    "if normalize:\n",
    "    norm_layer = Normalization()\n",
    "    mean = np.array([127.5] * 3)\n",
    "    var = mean ** 2\n",
    "    x = norm_layer(inputs)\n",
    "    norm_layer.set_weights([mean, var])\n",
    "else:\n",
    "    x = inputs\n",
    "    \n",
    "x = base_model(x, training = not transfer_lr)\n",
    "x = GlobalAveragePooling2D()(x) # instead of dense layer\n",
    "if dout!= 0.:\n",
    "    x = Dropout(dout)(x) # Regularize with dropout\n",
    "    \n",
    "# final_neurons = num_classes\n",
    "if activation_f=='sigmoid':\n",
    "    final_neurons = 1\n",
    "\n",
    "outputs = Dense(final_neurons, activation=activation_f)(x)\n",
    "\n",
    "model = Model(inputs, outputs)\n",
    "\n",
    "model.summary()"
   ]
  },
  {
   "cell_type": "code",
   "execution_count": 40,
   "metadata": {
    "colab": {
     "base_uri": "https://localhost:8080/"
    },
    "id": "V88Udx7flzzQ",
    "outputId": "6eea7ed5-9152-40f8-e4eb-5c778261202b"
   },
   "outputs": [
    {
     "name": "stderr",
     "output_type": "stream",
     "text": [
      "A subdirectory or file weights already exists.\n"
     ]
    }
   ],
   "source": [
    "!mkdir weights"
   ]
  },
  {
   "cell_type": "code",
   "execution_count": 202,
   "metadata": {
    "id": "yw3e-gQolzzR"
   },
   "outputs": [],
   "source": [
    "def recall_m(y_true, y_pred):\n",
    "    true_positives = K.sum(K.round(K.clip(y_true * y_pred, 0, 1)))\n",
    "    possible_positives = K.sum(K.round(K.clip(y_true, 0, 1)))\n",
    "    recall = true_positives / (possible_positives + K.epsilon())\n",
    "    return recall\n",
    "\n",
    "def precision_m(y_true, y_pred):\n",
    "    true_positives = K.sum(K.round(K.clip(y_true * y_pred, 0, 1)))\n",
    "    predicted_positives = K.sum(K.round(K.clip(y_pred, 0, 1)))\n",
    "    precision = true_positives / (predicted_positives + K.epsilon())\n",
    "    return precision\n",
    "\n",
    "def f1_m(y_true, y_pred):\n",
    "    precision = precision_m(y_true, y_pred)\n",
    "    recall = recall_m(y_true, y_pred)\n",
    "    return 2*((precision*recall)/(precision+recall+K.epsilon()))"
   ]
  },
  {
   "cell_type": "code",
   "execution_count": 206,
   "metadata": {
    "id": "AGGQ5z3ilzzR"
   },
   "outputs": [],
   "source": [
    "weight_address = 'weights/'+'best_model_todate_' + the_model + '.hdf5'\n",
    "\n",
    "opt = Adam() \n",
    "es = EarlyStopping(patience=6, monitor=monitor)\n",
    "chkpt = ModelCheckpoint(filepath=weight_address, save_best_only=True,\n",
    "                        save_weights_only=True, monitor=monitor, mode='max')\n",
    "\n",
    "def get_lr_metric(optimizer):\n",
    "    def lr(y_true, y_pred):\n",
    "        return optimizer.lr\n",
    "    return lr\n",
    "\n",
    "lr_track = get_lr_metric(opt)\n",
    "\n",
    "model.compile(loss= loss_type, metrics=['accuracy',f1_m,precision_m,recall_m], optimizer=opt)"
   ]
  },
  {
   "cell_type": "code",
   "execution_count": 204,
   "metadata": {
    "colab": {
     "base_uri": "https://localhost:8080/"
    },
    "id": "axyEuwLDlzzR",
    "outputId": "50bc325b-f861-4a6b-a5c0-6877f8177326"
   },
   "outputs": [
    {
     "name": "stdout",
     "output_type": "stream",
     "text": [
      "Model: densenet121 , classes: 2 , activation: sigmoid , transfer learning: True , loss: binary_crossentropy \n",
      ", normalized between [-1, 1]: True , Batch size: 32 , in_size: 224 , monitor:  val_f1_m\n"
     ]
    }
   ],
   "source": [
    "print('Model:',the_model, ', classes:', 2, ', activation:',activation_f,', transfer learning:', transfer_lr,\n",
    "      \", loss:\", loss_type, '\\n, normalized between [-1, 1]:', normalize, ', Batch size:', batch_size, ', in_size:', in_size\n",
    "     , ', monitor: ', monitor)"
   ]
  },
  {
   "cell_type": "code",
   "execution_count": 24,
   "metadata": {
    "colab": {
     "base_uri": "https://localhost:8080/"
    },
    "id": "CabDh5YGlzzR",
    "outputId": "f0a68c8b-3123-486c-f4cc-d0e75a32f1ba"
   },
   "outputs": [
    {
     "name": "stderr",
     "output_type": "stream",
     "text": [
      "'rm' is not recognized as an internal or external command,\n",
      "operable program or batch file.\n"
     ]
    },
    {
     "name": "stdout",
     "output_type": "stream",
     "text": [
      "Tools imported!\n"
     ]
    },
    {
     "name": "stderr",
     "output_type": "stream",
     "text": [
      "fatal: destination path 'utils' already exists and is not an empty directory.\n"
     ]
    }
   ],
   "source": [
    "!rm -rf utils\n",
    "!git clone https://github.com/Moeinh77/utils\n",
    "from utils.tools.clr_callback import CyclicLR\n",
    "from utils.tools.learningratefinder import LearningRateFinder\n",
    "from sklearn.metrics import confusion_matrix\n",
    "print('Tools imported!')"
   ]
  },
  {
   "cell_type": "code",
   "execution_count": 205,
   "metadata": {
    "colab": {
     "base_uri": "https://localhost:8080/",
     "height": 518
    },
    "id": "gc8-O6aQlzzS",
    "outputId": "73903a93-92c7-4f01-8db5-7f2f6ccf256d",
    "scrolled": true
   },
   "outputs": [
    {
     "name": "stdout",
     "output_type": "stream",
     "text": [
      "Using generator: True\n",
      "WARNING:tensorflow:sample_weight modes were coerced from\n",
      "  ...\n",
      "    to  \n",
      "  ['...']\n",
      "Train for 83 steps\n",
      "Epoch 1/4\n",
      "83/83 [==============================] - 29s 346ms/step - loss: 1.0873 - accuracy: 0.5045 - f1_m: 0.0149 - lr: 3.8547e-06 - precision_m: 0.1084 - recall_m: 0.0081\n",
      "Epoch 2/4\n",
      "83/83 [==============================] - 22s 262ms/step - loss: 0.9280 - accuracy: 0.5185 - f1_m: 0.0767 - lr: 3.8547e-05 - precision_m: 0.4056 - recall_m: 0.0437\n",
      "Epoch 3/4\n",
      "83/83 [==============================] - 22s 262ms/step - loss: 0.6279 - accuracy: 0.6491 - f1_m: 0.5941 - lr: 3.8547e-04 - precision_m: 0.6888 - recall_m: 0.5562\n",
      "Epoch 4/4\n",
      "83/83 [==============================] - 22s 261ms/step - loss: 0.3667 - accuracy: 0.8532 - f1_m: 0.8509 - lr: 0.0039 - precision_m: 0.8626 - recall_m: 0.8498\n"
     ]
    },
    {
     "data": {
      "image/png": "[encoded data removed]",
      "text/plain": [
       "<Figure size 432x288 with 1 Axes>"
      ]
     },
     "metadata": {
      "needs_background": "light"
     },
     "output_type": "display_data"
    }
   ],
   "source": [
    "lrf = LearningRateFinder(model)\n",
    "lrf.find(\n",
    "    train_generator,\n",
    "    1e-5, 1e-2,\n",
    "    stepsPerEpoch=steps_per_epoch,\n",
    "    batchSize=batch_size\n",
    "    ,epochs=4)\n",
    "\n",
    "lrf.plot_loss()"
   ]
  },
  {
   "cell_type": "code",
   "execution_count": 207,
   "metadata": {
    "id": "sUoiy7tIlzzT"
   },
   "outputs": [],
   "source": [
    "MIN_LR = 1e-5\n",
    "MAX_LR = 3e-3\n",
    "STEP_SIZE = 1\n",
    "CLR_METHOD = \"triangular\"\n",
    "\n",
    "clr = CyclicLR(\n",
    "    mode= CLR_METHOD,\n",
    "    base_lr= MIN_LR,\n",
    "    max_lr= MAX_LR,\n",
    "    step_size= STEP_SIZE * steps_per_epoch)"
   ]
  },
  {
   "cell_type": "code",
   "execution_count": 208,
   "metadata": {
    "id": "V0xXS_SWlzzT"
   },
   "outputs": [],
   "source": [
    "history=[]"
   ]
  },
  {
   "cell_type": "code",
   "execution_count": 209,
   "metadata": {
    "colab": {
     "base_uri": "https://localhost:8080/"
    },
    "id": "2Gu_YOCWlzzU",
    "outputId": "816f587c-cb8f-4571-a3d0-f6f239a52982",
    "scrolled": true
   },
   "outputs": [
    {
     "name": "stdout",
     "output_type": "stream",
     "text": [
      "WARNING:tensorflow:sample_weight modes were coerced from\n",
      "  ...\n",
      "    to  \n",
      "  ['...']\n",
      "Train for 83 steps, validate on 16 samples\n",
      "Epoch 1/8\n",
      "83/83 [==============================] - 31s 371ms/step - loss: 0.5832 - accuracy: 0.7208 - f1_m: 0.6471 - precision_m: 0.7237 - recall_m: 0.6512 - val_loss: 0.3640 - val_accuracy: 0.9375 - val_f1_m: 0.9333 - val_precision_m: 1.0000 - val_recall_m: 0.8750\n",
      "Epoch 2/8\n",
      "83/83 [==============================] - 22s 264ms/step - loss: 0.2739 - accuracy: 0.9023 - f1_m: 0.8995 - precision_m: 0.9142 - recall_m: 0.8897 - val_loss: 0.3123 - val_accuracy: 0.8750 - val_f1_m: 0.8750 - val_precision_m: 0.8750 - val_recall_m: 0.8750\n",
      "Epoch 3/8\n",
      "83/83 [==============================] - 22s 264ms/step - loss: 0.2589 - accuracy: 0.9015 - f1_m: 0.8967 - precision_m: 0.9183 - recall_m: 0.8820 - val_loss: 0.2981 - val_accuracy: 0.8750 - val_f1_m: 0.8750 - val_precision_m: 0.8750 - val_recall_m: 0.8750\n",
      "Epoch 4/8\n",
      "83/83 [==============================] - 22s 265ms/step - loss: 0.2181 - accuracy: 0.9238 - f1_m: 0.9209 - precision_m: 0.9378 - recall_m: 0.9086 - val_loss: 0.2594 - val_accuracy: 0.8750 - val_f1_m: 0.8750 - val_precision_m: 0.8750 - val_recall_m: 0.8750\n",
      "Epoch 5/8\n",
      "83/83 [==============================] - 22s 267ms/step - loss: 0.2126 - accuracy: 0.9219 - f1_m: 0.9184 - precision_m: 0.9288 - recall_m: 0.9119 - val_loss: 0.2294 - val_accuracy: 0.9375 - val_f1_m: 0.9333 - val_precision_m: 1.0000 - val_recall_m: 0.8750\n",
      "Epoch 6/8\n",
      "83/83 [==============================] - 22s 268ms/step - loss: 0.2034 - accuracy: 0.9272 - f1_m: 0.9260 - precision_m: 0.9351 - recall_m: 0.9206 - val_loss: 0.2132 - val_accuracy: 0.9375 - val_f1_m: 0.9333 - val_precision_m: 1.0000 - val_recall_m: 0.8750\n",
      "Epoch 7/8\n",
      "83/83 [==============================] - 22s 269ms/step - loss: 0.1845 - accuracy: 0.9298 - f1_m: 0.9276 - precision_m: 0.9369 - recall_m: 0.9220 - val_loss: 0.2119 - val_accuracy: 0.9375 - val_f1_m: 0.9333 - val_precision_m: 1.0000 - val_recall_m: 0.8750\n",
      "Epoch 8/8\n",
      "83/83 [==============================] - 22s 264ms/step - loss: 0.1814 - accuracy: 0.9362 - f1_m: 0.9350 - precision_m: 0.9463 - recall_m: 0.9279 - val_loss: 0.1936 - val_accuracy: 0.9375 - val_f1_m: 0.9333 - val_precision_m: 1.0000 - val_recall_m: 0.8750\n"
     ]
    }
   ],
   "source": [
    "nb_epochs = 8\n",
    "# Fit the model\n",
    "history.append(model.fit(train_generator, \n",
    "                              epochs=nb_epochs, steps_per_epoch=steps_per_epoch,\n",
    "                              validation_data=(valid_data,valid_labels),callbacks=[chkpt, clr]))\n"
   ]
  },
  {
   "cell_type": "code",
   "execution_count": 210,
   "metadata": {
    "colab": {
     "base_uri": "https://localhost:8080/",
     "height": 282
    },
    "id": "zMwTHh3slzzU",
    "outputId": "99ac3bd7-7393-48f2-abb7-df5c008cabac"
   },
   "outputs": [
    {
     "name": "stdout",
     "output_type": "stream",
     "text": [
      "Best train f1-acc: 0.9349570870399475 | Best val f1-acc: 0.9333332777023315\n"
     ]
    },
    {
     "data": {
      "image/png": "[encoded data removed]",
      "text/plain": [
       "<Figure size 432x288 with 1 Axes>"
      ]
     },
     "metadata": {
      "needs_background": "light"
     },
     "output_type": "display_data"
    }
   ],
   "source": [
    "i = 0\n",
    "print('Best train f1-acc: {} | Best val f1-acc: {}'.format(max(history[i].history['f1_m']),max(history[i].history['val_f1_m'])))\n",
    "plt.plot(history[i].history['f1_m'],'o-')\n",
    "plt.plot(history[i].history['val_f1_m'],'x-')\n",
    "plt.legend(['train_f1','val_f1'])\n",
    "plt.show()"
   ]
  },
  {
   "cell_type": "code",
   "execution_count": 211,
   "metadata": {},
   "outputs": [],
   "source": [
    "model.save(weight_address[:-5]+'_frozen'+'.hdf5')"
   ]
  },
  {
   "cell_type": "code",
   "execution_count": 212,
   "metadata": {
    "colab": {
     "base_uri": "https://localhost:8080/"
    },
    "id": "3dkgPZ16lzzU",
    "outputId": "b0e278cd-6ae3-4bb3-d537-f32146e1d270"
   },
   "outputs": [
    {
     "name": "stdout",
     "output_type": "stream",
     "text": [
      "624/624 [==============================] - 2s 3ms/sample - loss: 0.4113 - accuracy: 0.8381 - f1_m: 0.6049 - precision_m: 0.6500 - recall_m: 0.5666\n"
     ]
    },
    {
     "data": {
      "text/plain": [
       "[0.4112998277713091, 0.838141, 0.6048693, 0.65, 0.5666193]"
      ]
     },
     "execution_count": 212,
     "metadata": {},
     "output_type": "execute_result"
    }
   ],
   "source": [
    "# Load the model weights\n",
    "model.load_weights(weight_address)\n",
    "# eval on test set\n",
    "model.evaluate(test_data,test_labels)"
   ]
  },
  {
   "cell_type": "code",
   "execution_count": 213,
   "metadata": {},
   "outputs": [
    {
     "data": {
      "image/png": "[encoded data removed]",
      "text/plain": [
       "<Figure size 432x288 with 2 Axes>"
      ]
     },
     "metadata": {
      "needs_background": "light"
     },
     "output_type": "display_data"
    }
   ],
   "source": [
    "predictions = model.predict(test_data)\n",
    "\n",
    "def binary_(i):\n",
    "    if i> 0.5: \n",
    "        return 1\n",
    "    else: \n",
    "        return 0\n",
    "predictions = [binary_(float(i)) for i in predictions]\n",
    "sns.heatmap(confusion_matrix(test_labels, \n",
    "                            predictions),annot=True,annot_kws={\"size\": 20},fmt='g')\n",
    "\n",
    "plt.show()"
   ]
  },
  {
   "cell_type": "markdown",
   "metadata": {},
   "source": [
    "well, not bad but maybe we can do better after fine tuning"
   ]
  },
  {
   "cell_type": "code",
   "execution_count": 215,
   "metadata": {
    "colab": {
     "base_uri": "https://localhost:8080/"
    },
    "id": "ZvHOGxvblzzU",
    "outputId": "aa019c9e-2d01-4551-b192-9acce5aed625"
   },
   "outputs": [
    {
     "name": "stdout",
     "output_type": "stream",
     "text": [
      "Regularization applied with penalty  2\n",
      "Model: \"model_5\"\n",
      "_________________________________________________________________\n",
      "Layer (type)                 Output Shape              Param #   \n",
      "=================================================================\n",
      "input_12 (InputLayer)        [(None, 224, 224, 3)]     0         \n",
      "_________________________________________________________________\n",
      "normalization_5 (Normalizati (None, 224, 224, 3)       7         \n",
      "_________________________________________________________________\n",
      "densenet121 (Model)          multiple                  7037504   \n",
      "_________________________________________________________________\n",
      "global_average_pooling2d_5 ( (None, 1024)              0         \n",
      "_________________________________________________________________\n",
      "dropout_5 (Dropout)          (None, 1024)              0         \n",
      "_________________________________________________________________\n",
      "dense_5 (Dense)              (None, 1)                 1025      \n",
      "=================================================================\n",
      "Total params: 7,038,536\n",
      "Trainable params: 6,954,881\n",
      "Non-trainable params: 83,655\n",
      "_________________________________________________________________\n"
     ]
    }
   ],
   "source": [
    "# Load the model best weights and unfreeze for fine tune\n",
    "base_model.trainable = True\n",
    "############################################################\n",
    "# adding regularization\n",
    "penalty = 2\n",
    "regularizer = tensorflow.keras.regularizers.l2(penalty)\n",
    "\n",
    "for layer in base_model.layers:\n",
    "    for attr in ['kernel_regularizer']:\n",
    "        if hasattr(layer, attr):\n",
    "            setattr(layer, attr, regularizer)\n",
    "\n",
    "model_json = base_model.to_json()\n",
    "base_model = tensorflow.keras.models.model_from_json(model_json)\n",
    "if base_model.losses != []:\n",
    "    print('Regularization applied with penalty ', penalty)\n",
    "############################################################\n",
    "model.compile(loss= loss_type, metrics=['accuracy',f1_m,precision_m,recall_m], optimizer=opt)\n",
    "model.summary()"
   ]
  },
  {
   "cell_type": "code",
   "execution_count": 216,
   "metadata": {
    "colab": {
     "base_uri": "https://localhost:8080/",
     "height": 485
    },
    "id": "K0MXgiXPlzzU",
    "outputId": "31f6dffb-5db8-4097-ee35-2b744b50a1d7"
   },
   "outputs": [
    {
     "name": "stdout",
     "output_type": "stream",
     "text": [
      "Using generator: True\n",
      "WARNING:tensorflow:sample_weight modes were coerced from\n",
      "  ...\n",
      "    to  \n",
      "  ['...']\n",
      "Train for 83 steps\n",
      "Epoch 1/4\n",
      "83/83 [==============================] - 42s 506ms/step - loss: 0.3083 - accuracy: 0.8883 - f1_m: 0.8826 - precision_m: 0.9049 - recall_m: 0.8670\n",
      "Epoch 2/4\n",
      "83/83 [==============================] - 31s 377ms/step - loss: 0.2965 - accuracy: 0.8894 - f1_m: 0.8855 - precision_m: 0.8985 - recall_m: 0.8775\n",
      "Epoch 3/4\n",
      "83/83 [==============================] - 32s 382ms/step - loss: 0.2262 - accuracy: 0.9215 - f1_m: 0.9171 - precision_m: 0.9268 - recall_m: 0.9122\n",
      "Epoch 4/4\n",
      "83/83 [==============================] - 32s 382ms/step - loss: 0.1820 - accuracy: 0.9351 - f1_m: 0.9332 - precision_m: 0.9400 - recall_m: 0.9306\n"
     ]
    },
    {
     "data": {
      "image/png": "[encoded data removed]",
      "text/plain": [
       "<Figure size 432x288 with 1 Axes>"
      ]
     },
     "metadata": {
      "needs_background": "light"
     },
     "output_type": "display_data"
    }
   ],
   "source": [
    "lrf = LearningRateFinder(model)\n",
    "lrf.find(\n",
    "    train_generator,\n",
    "    1e-8, 1e-5,\n",
    "    stepsPerEpoch=steps_per_epoch,\n",
    "    batchSize=batch_size\n",
    "    ,epochs=4)\n",
    "# plot the loss for the various learning rates and save the\n",
    "# resulting plot to disk\n",
    "lrf.plot_loss()"
   ]
  },
  {
   "cell_type": "code",
   "execution_count": 217,
   "metadata": {
    "id": "BCHTgS82lzzU"
   },
   "outputs": [],
   "source": [
    "MIN_LR = 5e-7\n",
    "MAX_LR = 8e-6\n",
    "STEP_SIZE = 1\n",
    "CLR_METHOD = \"triangular\"\n",
    "\n",
    "clr = CyclicLR(\n",
    "    mode= CLR_METHOD,\n",
    "    base_lr= MIN_LR,\n",
    "    max_lr= MAX_LR,\n",
    "    step_size= STEP_SIZE * steps_per_epoch)"
   ]
  },
  {
   "cell_type": "code",
   "execution_count": 218,
   "metadata": {
    "colab": {
     "base_uri": "https://localhost:8080/"
    },
    "id": "8u4YWkrulzzV",
    "outputId": "ec1be3fc-81d0-492f-b84a-a7d0b74555e3",
    "scrolled": true
   },
   "outputs": [
    {
     "name": "stdout",
     "output_type": "stream",
     "text": [
      "WARNING:tensorflow:sample_weight modes were coerced from\n",
      "  ...\n",
      "    to  \n",
      "  ['...']\n",
      "Train for 83 steps, validate on 16 samples\n",
      "Epoch 1/20\n",
      "83/83 [==============================] - 34s 412ms/step - loss: 0.2267 - accuracy: 0.9170 - f1_m: 0.9143 - precision_m: 0.9211 - recall_m: 0.9127 - val_loss: 0.2108 - val_accuracy: 0.9375 - val_f1_m: 0.9412 - val_precision_m: 0.8889 - val_recall_m: 1.0000\n",
      "Epoch 2/20\n",
      "83/83 [==============================] - 33s 394ms/step - loss: 0.1339 - accuracy: 0.9517 - f1_m: 0.9500 - precision_m: 0.9546 - recall_m: 0.9479 - val_loss: 0.0999 - val_accuracy: 1.0000 - val_f1_m: 1.0000 - val_precision_m: 1.0000 - val_recall_m: 1.0000\n",
      "Epoch 3/20\n",
      "83/83 [==============================] - 32s 383ms/step - loss: 0.1076 - accuracy: 0.9623 - f1_m: 0.9606 - precision_m: 0.9700 - recall_m: 0.9535 - val_loss: 0.0806 - val_accuracy: 1.0000 - val_f1_m: 1.0000 - val_precision_m: 1.0000 - val_recall_m: 1.0000\n",
      "Epoch 4/20\n",
      "83/83 [==============================] - 32s 383ms/step - loss: 0.1037 - accuracy: 0.9619 - f1_m: 0.9603 - precision_m: 0.9648 - recall_m: 0.9582 - val_loss: 0.1083 - val_accuracy: 1.0000 - val_f1_m: 1.0000 - val_precision_m: 1.0000 - val_recall_m: 1.0000\n",
      "Epoch 5/20\n",
      "83/83 [==============================] - 32s 383ms/step - loss: 0.0794 - accuracy: 0.9747 - f1_m: 0.9741 - precision_m: 0.9754 - recall_m: 0.9744 - val_loss: 0.0534 - val_accuracy: 1.0000 - val_f1_m: 1.0000 - val_precision_m: 1.0000 - val_recall_m: 1.0000\n",
      "Epoch 6/20\n",
      "83/83 [==============================] - 32s 383ms/step - loss: 0.0700 - accuracy: 0.9743 - f1_m: 0.9745 - precision_m: 0.9782 - recall_m: 0.9727 - val_loss: 0.0747 - val_accuracy: 1.0000 - val_f1_m: 1.0000 - val_precision_m: 1.0000 - val_recall_m: 1.0000\n",
      "Epoch 7/20\n",
      "83/83 [==============================] - 32s 383ms/step - loss: 0.0702 - accuracy: 0.9751 - f1_m: 0.9747 - precision_m: 0.9772 - recall_m: 0.9739 - val_loss: 0.0752 - val_accuracy: 0.9375 - val_f1_m: 0.9412 - val_precision_m: 0.8889 - val_recall_m: 1.0000\n",
      "Epoch 8/20\n",
      "83/83 [==============================] - 32s 383ms/step - loss: 0.0724 - accuracy: 0.9717 - f1_m: 0.9707 - precision_m: 0.9736 - recall_m: 0.9707 - val_loss: 0.0408 - val_accuracy: 1.0000 - val_f1_m: 1.0000 - val_precision_m: 1.0000 - val_recall_m: 1.0000\n",
      "Epoch 9/20\n",
      "83/83 [==============================] - 32s 383ms/step - loss: 0.0568 - accuracy: 0.9785 - f1_m: 0.9776 - precision_m: 0.9840 - recall_m: 0.9736 - val_loss: 0.0299 - val_accuracy: 1.0000 - val_f1_m: 1.0000 - val_precision_m: 1.0000 - val_recall_m: 1.0000\n",
      "Epoch 10/20\n",
      "83/83 [==============================] - 32s 383ms/step - loss: 0.0593 - accuracy: 0.9800 - f1_m: 0.9798 - precision_m: 0.9814 - recall_m: 0.9799 - val_loss: 0.0285 - val_accuracy: 1.0000 - val_f1_m: 1.0000 - val_precision_m: 1.0000 - val_recall_m: 1.0000\n",
      "Epoch 11/20\n",
      "83/83 [==============================] - 32s 383ms/step - loss: 0.0419 - accuracy: 0.9879 - f1_m: 0.9873 - precision_m: 0.9908 - recall_m: 0.9848 - val_loss: 0.0600 - val_accuracy: 1.0000 - val_f1_m: 1.0000 - val_precision_m: 1.0000 - val_recall_m: 1.0000\n",
      "Epoch 12/20\n",
      "83/83 [==============================] - 32s 383ms/step - loss: 0.0535 - accuracy: 0.9808 - f1_m: 0.9795 - precision_m: 0.9820 - recall_m: 0.9787 - val_loss: 0.0399 - val_accuracy: 1.0000 - val_f1_m: 1.0000 - val_precision_m: 1.0000 - val_recall_m: 1.0000\n",
      "Epoch 13/20\n",
      "83/83 [==============================] - 32s 383ms/step - loss: 0.0452 - accuracy: 0.9845 - f1_m: 0.9845 - precision_m: 0.9873 - recall_m: 0.9828 - val_loss: 0.0646 - val_accuracy: 1.0000 - val_f1_m: 1.0000 - val_precision_m: 1.0000 - val_recall_m: 1.0000\n",
      "Epoch 14/20\n",
      "83/83 [==============================] - 32s 383ms/step - loss: 0.0440 - accuracy: 0.9853 - f1_m: 0.9854 - precision_m: 0.9863 - recall_m: 0.9855 - val_loss: 0.0369 - val_accuracy: 1.0000 - val_f1_m: 1.0000 - val_precision_m: 1.0000 - val_recall_m: 1.0000\n",
      "Epoch 15/20\n",
      "83/83 [==============================] - 32s 383ms/step - loss: 0.0394 - accuracy: 0.9868 - f1_m: 0.9864 - precision_m: 0.9881 - recall_m: 0.9858 - val_loss: 0.0506 - val_accuracy: 1.0000 - val_f1_m: 1.0000 - val_precision_m: 1.0000 - val_recall_m: 1.0000\n",
      "Epoch 16/20\n",
      "83/83 [==============================] - 32s 383ms/step - loss: 0.0407 - accuracy: 0.9860 - f1_m: 0.9853 - precision_m: 0.9857 - recall_m: 0.9860 - val_loss: 0.0327 - val_accuracy: 1.0000 - val_f1_m: 1.0000 - val_precision_m: 1.0000 - val_recall_m: 1.0000\n",
      "Epoch 17/20\n",
      "83/83 [==============================] - 32s 383ms/step - loss: 0.0357 - accuracy: 0.9883 - f1_m: 0.9876 - precision_m: 0.9910 - recall_m: 0.9854 - val_loss: 0.0561 - val_accuracy: 1.0000 - val_f1_m: 1.0000 - val_precision_m: 1.0000 - val_recall_m: 1.0000\n",
      "Epoch 18/20\n",
      "83/83 [==============================] - 32s 383ms/step - loss: 0.0388 - accuracy: 0.9857 - f1_m: 0.9857 - precision_m: 0.9861 - recall_m: 0.9864 - val_loss: 0.0196 - val_accuracy: 1.0000 - val_f1_m: 1.0000 - val_precision_m: 1.0000 - val_recall_m: 1.0000\n",
      "Epoch 19/20\n",
      "83/83 [==============================] - 32s 383ms/step - loss: 0.0310 - accuracy: 0.9883 - f1_m: 0.9883 - precision_m: 0.9899 - recall_m: 0.9876 - val_loss: 0.0316 - val_accuracy: 1.0000 - val_f1_m: 1.0000 - val_precision_m: 1.0000 - val_recall_m: 1.0000\n",
      "Epoch 20/20\n",
      "83/83 [==============================] - 32s 383ms/step - loss: 0.0313 - accuracy: 0.9872 - f1_m: 0.9866 - precision_m: 0.9866 - recall_m: 0.9875 - val_loss: 0.0181 - val_accuracy: 1.0000 - val_f1_m: 1.0000 - val_precision_m: 1.0000 - val_recall_m: 1.0000\n"
     ]
    }
   ],
   "source": [
    "nb_epochs = 20\n",
    "# Fit the model\n",
    "\n",
    "history.append(model.fit(train_generator, \n",
    "                              epochs=nb_epochs, steps_per_epoch=steps_per_epoch,\n",
    "                              validation_data=(valid_data, valid_labels),callbacks=[chkpt, clr]))\n"
   ]
  },
  {
   "cell_type": "code",
   "execution_count": 219,
   "metadata": {
    "colab": {
     "base_uri": "https://localhost:8080/",
     "height": 286
    },
    "id": "DnKKa2YJlzzV",
    "outputId": "e0395d10-6a59-4a9f-ffbb-c7f23fc52efb"
   },
   "outputs": [
    {
     "name": "stdout",
     "output_type": "stream",
     "text": [
      "Best train f1-acc: 0.9883437752723694 | Best val f1-acc: 1.0\n"
     ]
    },
    {
     "data": {
      "image/png": "[encoded data removed]",
      "text/plain": [
       "<Figure size 432x288 with 1 Axes>"
      ]
     },
     "metadata": {
      "needs_background": "light"
     },
     "output_type": "display_data"
    }
   ],
   "source": [
    "i = 1\n",
    "print('Best train f1-acc: {} | Best val f1-acc: {}'.format(max(history[i].history['f1_m']),max(history[i].history['val_f1_m'])))\n",
    "plt.plot(history[i].history['f1_m'],'o-')\n",
    "plt.plot(history[i].history['val_f1_m'],'x-')\n",
    "plt.legend(['train_f1','val_f1'])\n",
    "plt.show()"
   ]
  },
  {
   "cell_type": "code",
   "execution_count": 220,
   "metadata": {
    "_cell_guid": "65afc715-9f5b-4a3a-b2a9-053bd271ba94",
    "_uuid": "8032be06a247d736a041f83f0f78d74ee0310a86",
    "colab": {
     "base_uri": "https://localhost:8080/"
    },
    "id": "wMcYQPyjlzzX",
    "outputId": "100de45e-c96b-4b54-999f-adbfc94ee03a"
   },
   "outputs": [
    {
     "name": "stdout",
     "output_type": "stream",
     "text": [
      "16/16 [==============================] - 3s 198ms/sample - loss: 0.0181 - accuracy: 1.0000 - f1_m: 1.0000 - precision_m: 1.0000 - recall_m: 1.0000\n",
      "Loss on valid set:  0.018132871016860008\n",
      "Accuracy on valid set:  1.0\n",
      "F1 Accuracy on valid set:  1.0\n"
     ]
    }
   ],
   "source": [
    "# Evaluation on test dataset\n",
    "results = model.evaluate(valid_data, valid_labels, batch_size=16)\n",
    "\n",
    "print(\"Loss on valid set: \", results[0])\n",
    "print(\"Accuracy on valid set: \", results[1])\n",
    "print(\"F1 Accuracy on valid set: \", results[2])"
   ]
  },
  {
   "cell_type": "code",
   "execution_count": 221,
   "metadata": {},
   "outputs": [
    {
     "name": "stdout",
     "output_type": "stream",
     "text": [
      "624/624 [==============================] - 2s 3ms/sample - loss: 0.2368 - accuracy: 0.9359 - f1_m: 0.6300 - precision_m: 0.6410 - recall_m: 0.6202       ETA: 1s - loss: 0.0757 - accuracy: 0.9732 - f1_m: 0.0000e+00 - precision_m: 0\n",
      "Loss on test set:  0.23679266640176186\n",
      "Accuracy on test set:  0.9358974\n",
      "F1 Accuracy on test set:  0.63004667\n"
     ]
    }
   ],
   "source": [
    "# Evaluation on test dataset\n",
    "results = model.evaluate(test_data, test_labels, batch_size=16)\n",
    "\n",
    "print(\"Loss on test set: \", results[0])\n",
    "print(\"Accuracy on test set: \", results[1])\n",
    "print(\"F1 Accuracy on test set: \", results[2])"
   ]
  },
  {
   "cell_type": "code",
   "execution_count": 223,
   "metadata": {
    "_uuid": "7a0944856f2d0666cf7c4fd90ad3e690ed17b2e7",
    "colab": {
     "base_uri": "https://localhost:8080/",
     "height": 265
    },
    "id": "LcHf-4dnlzzY",
    "outputId": "6b176e38-0800-4b10-ebf9-13170517ff03"
   },
   "outputs": [
    {
     "data": {
      "image/png": "[encoded data removed]",
      "text/plain": [
       "<Figure size 432x288 with 2 Axes>"
      ]
     },
     "metadata": {
      "needs_background": "light"
     },
     "output_type": "display_data"
    }
   ],
   "source": [
    "predictions = model.predict(test_data)\n",
    "\n",
    "def binary_(i):\n",
    "    if i> 0.5: \n",
    "        return 1\n",
    "    else: \n",
    "        return 0\n",
    "predictions = [binary_(float(i)) for i in predictions]\n",
    "sns.heatmap(confusion_matrix(test_labels, \n",
    "                            predictions),annot=True,annot_kws={\"size\": 20},fmt='g')\n",
    "\n",
    "plt.show()"
   ]
  },
  {
   "cell_type": "markdown",
   "metadata": {},
   "source": [
    "we can see that we managed to predict the labels of 61 more samples after fine tuning"
   ]
  }
 ],
 "metadata": {
  "accelerator": "GPU",
  "colab": {
   "collapsed_sections": [],
   "name": "densenet121-tf-keras-lr-finder-and-cyclical-fit.ipynb",
   "provenance": [],
   "toc_visible": true
  },
  "kernelspec": {
   "display_name": "Python 3",
   "language": "python",
   "name": "python3"
  },
  "language_info": {
   "codemirror_mode": {
    "name": "ipython",
    "version": 3
   },
   "file_extension": ".py",
   "mimetype": "text/x-python",
   "name": "python",
   "nbconvert_exporter": "python",
   "pygments_lexer": "ipython3",
   "version": "3.6.12"
  }
 },
 "nbformat": 4,
 "nbformat_minor": 1
}
